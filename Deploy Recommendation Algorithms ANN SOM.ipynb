{
 "cells": [
  {
   "cell_type": "markdown",
   "id": "04cc493a-2ae5-470c-bdaa-b2222eb1e486",
   "metadata": {},
   "source": [
    "# Recommendation Algorithms using ANN and SOM"
   ]
  },
  {
   "cell_type": "markdown",
   "id": "621378ae-8b0d-4d04-ac07-14e2e7961827",
   "metadata": {},
   "source": [
    "## 1. Introduction"
   ]
  },
  {
   "cell_type": "markdown",
   "id": "a9f7c27e-e11b-4685-b0a7-24e35535b289",
   "metadata": {},
   "source": [
    "**Overview:**  \n",
    "**Recommendation** systems play a crucial role in many modern industries such as e-commerce, streaming platforms, and social media. They help companies deliver personalized content or product suggestions to users, which can increase user satisfaction, engagement, and revenue. These systems analyze user behavior, preferences, and interactions with items to generate recommendations that are most likely to match user interests.  \n",
    "In this project, we investigate two advanced approaches to building recommendation systems:"
   ]
  },
  {
   "cell_type": "markdown",
   "id": "d7cd08e8-8a04-4157-8447-c66d8d9a76d8",
   "metadata": {},
   "source": [
    "### Artificial Neural Networks (ANN)\n",
    "**Concept:**  \n",
    "ANN models, particularly those using autoencoders, are designed to learn complex, non-linear relationships within data.  \n",
    "An autoencoder is a type of neural network that compresses high-dimensional data into a lower-dimensional latent representation (encoding) and then reconstructs the original data from this representation (decoding).  \n",
    "In recommendation systems, the autoencoder can be trained on the user-item rating matrix, learning the underlying patterns in user behavior and item characteristics.  \n",
    "\n",
    "**How It Works:**  \n",
    "`Encoding:` The network reduces the input dimensionality by passing data through a series of hidden layers. The bottleneck layer (latent space) captures the most salient features.  \n",
    "`Decoding:` The network then attempts to reconstruct the original ratings from this compact representation.  \n",
    "`Outcome:` The reconstruction error (commonly measured using Mean Squared Error, MSE) indicates how well the model has learned the patterns. A lower error suggests the model effectively captures the complex interactions between users and items, thus better predicting missing ratings.  \n",
    "\n",
    "**Applications in Recommendation:**  \n",
    "`Collaborative Filtering:` Autoencoders can learn latent features that represent user preferences and item characteristics, making them ideal for collaborative filtering tasks.  \n",
    "`Handling Sparsity:` Given that user-item matrices are typically sparse (many missing ratings), autoencoders can infer missing values by learning from the existing data."
   ]
  },
  {
   "cell_type": "markdown",
   "id": "29687cae-7024-4be0-ab94-aae12206aa83",
   "metadata": {},
   "source": [
    "### Self-Organizing Maps (SOM)\n",
    "**Concept:**  \n",
    "SOM is an unsupervised neural network that utilizes competitive learning to map high-dimensional data onto a lower-dimensional (usually two-dimensional) grid.  \n",
    "It is particularly useful for visualizing the structure and distribution of data, helping to identify clusters of similar items or users.  \n",
    "\n",
    "**How It Works:**  \n",
    "`Competitive Learning:` Unlike traditional supervised learning, in SOM every neuron competes to become the Best Matching Unit (BMU) for an input vector. The BMU and its neighboring neurons adjust their weights to better represent the input data.  \n",
    "`Topology Preservation:` The 2D grid of SOM ensures that similar input data points are mapped close to each other, thereby preserving the topological structure of the data.  \n",
    "`Outcome:` The resulting map (often visualized as a U-Matrix) reveals clusters and relationships between data points that may not be obvious in the high-dimensional space.  \n",
    "\n",
    "**Applications in Recommendation:**  \n",
    "`User Clustering:` By clustering users with similar rating behaviors, SOM can help tailor recommendations based on group characteristics.  \n",
    "`Data Visualization:` SOM offers a visual summary of how users or items are related, making it easier to identify trends, anomalies, or segments within the dataset."
   ]
  },
  {
   "cell_type": "markdown",
   "id": "1ced14dc-6359-4969-a127-4bcb0e3ed213",
   "metadata": {},
   "source": [
    "## 2. Literature Review"
   ]
  },
  {
   "cell_type": "markdown",
   "id": "17173e2c-dfd9-42a7-b76b-2aff604032da",
   "metadata": {
    "jp-MarkdownHeadingCollapsed": true
   },
   "source": [
    "### ANN in Recommendation Systems\n",
    "**List of Examples**  \n",
    "`Item2Vec:` A neural embedding approach that adapts the idea of word embeddings to items, capturing similarities among them for collaborative filtering.  \n",
    "`Neural Collaborative Filtering (NCF):` A framework that replaces the traditional inner product in collaborative filtering with a deep neural architecture to model complex user-item interactions.  \n",
    "`AutoRec:` An autoencoder-based method that reconstructs missing entries in the user-item matrix by learning latent representations.  \n",
    "**List of References for ANN**  \n",
    "- Barkan, O., & Koenigstein, N. (2016). Item2Vec: Neural Item Embedding for Collaborative Filtering, IEEE.  \n",
    "- He, X., Liao, L., Zhang, H., Nie, L., Hu, X., & Chua, T.-S. (2017). Neural Collaborative Filtering, in Proceedings of the 26th International Conference on World Wide Web (WWW '17).  \n",
    "- Sedhain, S., Menon, A. K., Sanner, S., & Xie, L. (2015). AutoRec: Autoencoders Meet Collaborative Filtering, in Proceedings of the 24th International Conference on World Wide Web (WWW '15)."
   ]
  },
  {
   "cell_type": "markdown",
   "id": "4aede50e-2e4a-4000-a7fd-cf21a176e836",
   "metadata": {},
   "source": [
    "### SOM in Recommendation Systems\n",
    "**List of Examples**  \n",
    "`Kohonen’s Self-Organizing Map:` The seminal method that uses competitive learning to map high-dimensional data onto a 2D grid for clustering.  \n",
    "`Clustering of High-Dimensional Data:` Applications where SOMs have been used to effectively cluster and visualize complex datasets, such as user-item matrices.  \n",
    "`Market Segmentation and Customer Behavior Analysis:` Cases where SOMs have been applied in marketing to segment customers based on purchase behavior and preferences.  \n",
    "`Gene Expression Analysis:` The use of SOMs to cluster genes with similar expression profiles, demonstrating their ability to handle complex, high-dimensional biological data.  \n",
    "**List of References for SOM**  \n",
    "- Kohonen, T. (1990). The Self-Organizing Map, Proceedings of the IEEE.\n",
    "- Vesanto, J., & Alhoniemi, E. (2000). Clustering of the Self-Organizing Map, IEEE Transactions on Neural Networks, 11(3), 586-600.\n",
    "- Ultsch, A. (2003). Self-Organizing Maps in Data Mining, in Proceedings of the European Symposium on Artificial Neural Networks (ESANN).\n",
    "- Tamayo, P., Slonim, D., Mesirov, J., Zhu, Q., Kitareewan, S., Dmitrovsky, E., ... & Golub, T. R. (1999). Interpreting patterns of gene expression with self-organizing maps: Methods and application to hematopoietic differentiation, Proceedings of the National Academy of Sciences."
   ]
  },
  {
   "cell_type": "markdown",
   "id": "9bdae03d-55ea-4259-a114-b48c5c100254",
   "metadata": {},
   "source": [
    "## 3. Selected Libraries and Functions"
   ]
  },
  {
   "cell_type": "markdown",
   "id": "a7fae4ad-4dc6-46ea-9a4c-8f91e76da9ac",
   "metadata": {},
   "source": [
    "**TensorFlow/Keras:** Build and train the ANN autoencoder.  \n",
    "`Sequential():` Constructs a linear stack of layers.  \n",
    "`Input():` Specifies the input shape for the model.  \n",
    "`Dense():` Creates fully connected layers (parameters: units, activation).  \n",
    "`compile():` Configures the model (parameters: optimizer, loss).  \n",
    "`fit():` Trains the model (parameters: epochs, batch_size, validation_split).  \n",
    "`predict():` Generates predictions on input data.  \n",
    "\n",
    "**MiniSom:** Purpose: Create and train the Self-Organizing Map (SOM) for clustering.  \n",
    "`MiniSom():` Initializes the SOM with grid dimensions, input length, sigma (neighborhood radius), and learning_rate.  \n",
    "`random_weights_init():` Randomly initializes the SOM weights using the training data.  \n",
    "`train():` Performs competitive learning over a specified number of iterations.  \n",
    "`winner():` Identifies the Best Matching Unit (BMU) for a given input.  \n",
    "\n",
    "**Additional Libraries:**  \n",
    "`Pandas & NumPy:` Data handling and numerical operations.  \n",
    "`Matplotlib:` Plotting and visualization.  \n",
    "`scikit-learn:` Evaluation metrics like mean squared error."
   ]
  },
  {
   "cell_type": "markdown",
   "id": "cff9896f-b9dc-4b8f-ac74-16c9de42bcba",
   "metadata": {},
   "source": [
    "## 4. Data Set Characteristics"
   ]
  },
  {
   "cell_type": "markdown",
   "id": "94872040-d842-48c4-8f2f-7b5fa75401bf",
   "metadata": {},
   "source": [
    "**Dataset: MovieLens 100k**  \n",
    "The MovieLens 100k dataset is a widely used benchmark dataset in the field of recommendation systems, provided by GroupLens Research. It offers a realistic snapshot of user behavior in the context of movie ratings.  \n",
    "\n",
    "**Structure**  \n",
    "The dataset includes 100,000 explicit ratings (on a scale from 1 to 5) submitted by users on various movies. Each record contains:  \n",
    "`user_id` – Unique identifier for the user  \n",
    "`movie_id` – Unique identifier for the movie  \n",
    "`rating` – User's rating (integer from 1 to 5)  \n",
    "`timestamp` – Time when the rating was given (Unix format)  \n",
    "\n",
    "**Scale**  \n",
    "Total Ratings: 100,000  \n",
    "Number of Users: 943  \n",
    "Number of Movies: 1,682  \n",
    "Density of User-Item Matrix: Approximately 6.3% (sparse matrix)  \n",
    "\n",
    "Download the dataset from [MovieLens 100k](https://grouplens.org/datasets/movielens/100k/) "
   ]
  },
  {
   "cell_type": "markdown",
   "id": "39f34d0e-b2c5-4f5a-af8c-3230a3857322",
   "metadata": {},
   "source": [
    "## 5. Empirical Analysis"
   ]
  },
  {
   "cell_type": "markdown",
   "id": "4d290496-13d2-4e02-a7ae-5a9490aaa960",
   "metadata": {},
   "source": [
    "**Goals**  \n",
    "**ANN Model:** Develop an autoencoder to reconstruct user ratings and capture latent features that help predict missing values.   \n",
    "**SOM:** Visualize clusters of users based on their rating behavior using a competitive learning algorithm.  \n",
    "\n",
    "**Assumptions**  \n",
    "The MovieLens dataset is representative of real-world behavior.  \n",
    "Normalizing ratings to [0, 1] improves training efficiency.  \n",
    "Users have consistent rating patterns that can be captured by latent representations.  \n",
    "\n",
    "**Expected Outcomes**\n",
    "**ANN Model:** A lower Mean Squared Error (MSE) compared to a simple baseline (mean rating prediction) indicates improved performance.  \n",
    "**SOM:** A clear U-Matrix visualization showing clusters of similar users, aiding in the interpretation of latent structures.  "
   ]
  },
  {
   "cell_type": "markdown",
   "id": "99853743-dcdf-4a1e-8489-d19d36272bf7",
   "metadata": {},
   "source": [
    "## 6. Code Implementation"
   ]
  },
  {
   "cell_type": "code",
   "execution_count": 268,
   "id": "0098aa82-93b7-4942-ab7c-bf12332fada4",
   "metadata": {},
   "outputs": [],
   "source": [
    "# Import necessary libraries\n",
    "import numpy as np\n",
    "import pandas as pd\n",
    "import matplotlib.pyplot as plt\n",
    "from tensorflow.keras.models import Sequential, Model\n",
    "from tensorflow.keras.layers import Dense, Input\n",
    "from sklearn.model_selection import train_test_split\n",
    "from sklearn.metrics import mean_squared_error\n",
    "from minisom import MiniSom\n",
    "from collections import Counter"
   ]
  },
  {
   "cell_type": "code",
   "execution_count": 269,
   "id": "13b7fc3c-17b0-49d8-a56d-d69af2bd00ae",
   "metadata": {},
   "outputs": [],
   "source": [
    "# Set random seed for reproducibility\n",
    "np.random.seed(42)"
   ]
  },
  {
   "cell_type": "markdown",
   "id": "084d37c2-ecd7-4c4f-843a-37bcc3cc11c8",
   "metadata": {},
   "source": [
    "#### 1. Data Loading and Initial Visualization"
   ]
  },
  {
   "cell_type": "code",
   "execution_count": 271,
   "id": "c3dacbb5-976f-4818-9074-4ae6e979e87b",
   "metadata": {},
   "outputs": [],
   "source": [
    "# Define column names for the dataset\n",
    "column_names = ['user_id', 'movie_id', 'rating', 'timestamp']\n",
    "# Load the MovieLens 100k dataset\n",
    "df = pd.read_csv('u.data', sep='\\t', names=column_names)"
   ]
  },
  {
   "cell_type": "code",
   "execution_count": 272,
   "id": "e28e41f9-210b-42f5-9d19-44e89f51756c",
   "metadata": {},
   "outputs": [
    {
     "name": "stdout",
     "output_type": "stream",
     "text": [
      "Dataset sample:\n",
      "   user_id  movie_id  rating  timestamp\n",
      "0      196       242       3  881250949\n",
      "1      186       302       3  891717742\n",
      "2       22       377       1  878887116\n",
      "3      244        51       2  880606923\n",
      "4      166       346       1  886397596\n",
      "\n",
      "Dataset info:\n",
      "<class 'pandas.core.frame.DataFrame'>\n",
      "RangeIndex: 100000 entries, 0 to 99999\n",
      "Data columns (total 4 columns):\n",
      " #   Column     Non-Null Count   Dtype\n",
      "---  ------     --------------   -----\n",
      " 0   user_id    100000 non-null  int64\n",
      " 1   movie_id   100000 non-null  int64\n",
      " 2   rating     100000 non-null  int64\n",
      " 3   timestamp  100000 non-null  int64\n",
      "dtypes: int64(4)\n",
      "memory usage: 3.1 MB\n",
      "None\n",
      "\n",
      "Dataset summary:\n",
      "            user_id       movie_id         rating     timestamp\n",
      "count  100000.00000  100000.000000  100000.000000  1.000000e+05\n",
      "mean      462.48475     425.530130       3.529860  8.835289e+08\n",
      "std       266.61442     330.798356       1.125674  5.343856e+06\n",
      "min         1.00000       1.000000       1.000000  8.747247e+08\n",
      "25%       254.00000     175.000000       3.000000  8.794487e+08\n",
      "50%       447.00000     322.000000       4.000000  8.828269e+08\n",
      "75%       682.00000     631.000000       4.000000  8.882600e+08\n",
      "max       943.00000    1682.000000       5.000000  8.932866e+08\n"
     ]
    }
   ],
   "source": [
    "# Display sample data, structure, and summary statistics\n",
    "print(\"Dataset sample:\")\n",
    "print(df.head())\n",
    "print(\"\\nDataset info:\")\n",
    "print(df.info())\n",
    "print(\"\\nDataset summary:\")\n",
    "print(df.describe())"
   ]
  },
  {
   "cell_type": "code",
   "execution_count": 273,
   "id": "d50d808f-62bd-461f-9a4b-63f439ac137b",
   "metadata": {},
   "outputs": [
    {
     "data": {
      "image/png": "[encoded data removed]",
      "text/plain": [
       "<Figure size 600x500 with 1 Axes>"
      ]
     },
     "metadata": {},
     "output_type": "display_data"
    }
   ],
   "source": [
    "# Visualization: Rating Distribution Histogram\n",
    "plt.figure(figsize=(6, 5))\n",
    "plt.hist(df['rating'], bins=np.arange(0.5, 6.5, 1), edgecolor='black', color='skyblue')\n",
    "plt.title(\"Rating Distribution\")\n",
    "plt.xlabel(\"Rating\")\n",
    "plt.ylabel(\"Frequency\")\n",
    "plt.show()"
   ]
  },
  {
   "cell_type": "markdown",
   "id": "cc82748a-e211-4efb-8943-c036d4476a7c",
   "metadata": {},
   "source": [
    "<font color='blue'> The distribution shows that ratings are skewed toward higher values (3, 4 and 5), suggesting users tend to rate movies positively."
   ]
  },
  {
   "cell_type": "markdown",
   "id": "fe225ff0-2042-4fcc-9ceb-be8d75de1426",
   "metadata": {},
   "source": [
    "#### 2. Data Preprocessing: Creating the Full User-Item Matrix"
   ]
  },
  {
   "cell_type": "code",
   "execution_count": 276,
   "id": "762f1a74-77c6-4140-a971-7ca0e64a76b2",
   "metadata": {},
   "outputs": [
    {
     "name": "stdout",
     "output_type": "stream",
     "text": [
      "\n",
      "User-Item Matrix shape: (943, 1682) \n",
      "\n",
      "movie_id  1     2     3     4     5     6     7     8     9     10    ...  \\\n",
      "user_id                                                               ...   \n",
      "1          5.0   3.0   4.0   3.0   3.0   5.0   4.0   1.0   5.0   3.0  ...   \n",
      "2          4.0   0.0   0.0   0.0   0.0   0.0   0.0   0.0   0.0   2.0  ...   \n",
      "3          0.0   0.0   0.0   0.0   0.0   0.0   0.0   0.0   0.0   0.0  ...   \n",
      "4          0.0   0.0   0.0   0.0   0.0   0.0   0.0   0.0   0.0   0.0  ...   \n",
      "5          4.0   3.0   0.0   0.0   0.0   0.0   0.0   0.0   0.0   0.0  ...   \n",
      "\n",
      "movie_id  1673  1674  1675  1676  1677  1678  1679  1680  1681  1682  \n",
      "user_id                                                               \n",
      "1          0.0   0.0   0.0   0.0   0.0   0.0   0.0   0.0   0.0   0.0  \n",
      "2          0.0   0.0   0.0   0.0   0.0   0.0   0.0   0.0   0.0   0.0  \n",
      "3          0.0   0.0   0.0   0.0   0.0   0.0   0.0   0.0   0.0   0.0  \n",
      "4          0.0   0.0   0.0   0.0   0.0   0.0   0.0   0.0   0.0   0.0  \n",
      "5          0.0   0.0   0.0   0.0   0.0   0.0   0.0   0.0   0.0   0.0  \n",
      "\n",
      "[5 rows x 1682 columns]\n"
     ]
    }
   ],
   "source": [
    "# Pivot the dataset to form a user-item matrix (rows: users, columns: movies)\n",
    "user_item_matrix = df.pivot(index='user_id', columns='movie_id', values='rating').fillna(0)\n",
    "print(\"\\nUser-Item Matrix shape:\", user_item_matrix.shape,'\\n')\n",
    "print(user_item_matrix.head())"
   ]
  },
  {
   "cell_type": "code",
   "execution_count": 277,
   "id": "c961b943-a5c5-4287-a69c-5e19b170b2c9",
   "metadata": {},
   "outputs": [
    {
     "name": "stdout",
     "output_type": "stream",
     "text": [
      "movie_id  1     2     3     4     5     6     7     8     9     10    ...  \\\n",
      "user_id                                                               ...   \n",
      "1          1.0   0.6   0.8   0.6   0.6   1.0   0.8   0.2   1.0   0.6  ...   \n",
      "2          0.8   0.0   0.0   0.0   0.0   0.0   0.0   0.0   0.0   0.4  ...   \n",
      "3          0.0   0.0   0.0   0.0   0.0   0.0   0.0   0.0   0.0   0.0  ...   \n",
      "4          0.0   0.0   0.0   0.0   0.0   0.0   0.0   0.0   0.0   0.0  ...   \n",
      "5          0.8   0.6   0.0   0.0   0.0   0.0   0.0   0.0   0.0   0.0  ...   \n",
      "\n",
      "movie_id  1673  1674  1675  1676  1677  1678  1679  1680  1681  1682  \n",
      "user_id                                                               \n",
      "1          0.0   0.0   0.0   0.0   0.0   0.0   0.0   0.0   0.0   0.0  \n",
      "2          0.0   0.0   0.0   0.0   0.0   0.0   0.0   0.0   0.0   0.0  \n",
      "3          0.0   0.0   0.0   0.0   0.0   0.0   0.0   0.0   0.0   0.0  \n",
      "4          0.0   0.0   0.0   0.0   0.0   0.0   0.0   0.0   0.0   0.0  \n",
      "5          0.0   0.0   0.0   0.0   0.0   0.0   0.0   0.0   0.0   0.0  \n",
      "\n",
      "[5 rows x 1682 columns]\n"
     ]
    }
   ],
   "source": [
    "# Normalize the ratings by dividing by the maximum rating (5)\n",
    "normalized_matrix = user_item_matrix / 5.0\n",
    "print(normalized_matrix.head())"
   ]
  },
  {
   "cell_type": "markdown",
   "id": "ed58c071-5dd0-4b95-aa40-0534e1f4f3df",
   "metadata": {},
   "source": [
    "<font color='blue'> Normalization is key for both ANN and SOM as it ensures that input values lie between 0 and 1, facilitating better learning."
   ]
  },
  {
   "cell_type": "markdown",
   "id": "313f001c-5733-40a0-bee7-7f68309350b9",
   "metadata": {},
   "source": [
    "#### 3. Train-Test Split and Baseline Method"
   ]
  },
  {
   "cell_type": "code",
   "execution_count": 280,
   "id": "95777fae-cf58-450e-86fe-a750dfdf120f",
   "metadata": {},
   "outputs": [],
   "source": [
    "# Convert the normalized matrix to a NumPy array\n",
    "X = normalized_matrix.values\n",
    "y = normalized_matrix.values  # For autoencoder, the target equals the input"
   ]
  },
  {
   "cell_type": "code",
   "execution_count": 281,
   "id": "550a7bd4-74dd-4497-a28d-b6b02505f4ab",
   "metadata": {},
   "outputs": [],
   "source": [
    "# Split the data into training (80%) and testing (20%) sets\n",
    "X_train, X_test, y_train, y_test = train_test_split(X, y, test_size=0.2, random_state=42)"
   ]
  },
  {
   "cell_type": "code",
   "execution_count": 282,
   "id": "0b070396-9b51-47cf-bc37-5b8c14b42c3a",
   "metadata": {},
   "outputs": [
    {
     "name": "stdout",
     "output_type": "stream",
     "text": [
      "Baseline Test RMSE (Mean Rating Prediction): 0.1669\n",
      "\n",
      "Baseline Test MSE (Mean Rating Prediction): 0.0279\n"
     ]
    }
   ],
   "source": [
    "# Baseline Method: Predict each movie's rating as the mean rating from the training set\n",
    "baseline_predictions = np.tile(X_train.mean(axis=0), (X_test.shape[0], 1))\n",
    "baseline_mse = mean_squared_error(y_test, baseline_predictions)\n",
    "baseline_rmse = np.sqrt(baseline_mse)\n",
    "print(\"Baseline Test RMSE (Mean Rating Prediction): {:.4f}\".format(baseline_rmse))\n",
    "print(\"\\nBaseline Test MSE (Mean Rating Prediction): {:.4f}\".format(baseline_mse))"
   ]
  },
  {
   "cell_type": "markdown",
   "id": "2cc0ef1b-f74e-42ed-aa6a-d824d3ec04fb",
   "metadata": {},
   "source": [
    "<font color='blue'> The baseline method predicts the mean rating for all test samples without learning from any features. An effective ANN model should achieve a test MSE significantly lower than this baseline, indicating it captures underlying patterns rather than random noise."
   ]
  },
  {
   "cell_type": "markdown",
   "id": "1b4014f2-c3ea-490f-be7f-ca403bff3d66",
   "metadata": {},
   "source": [
    "#### 4. ANN Autoencoder Model: Build, Train, and Evaluate"
   ]
  },
  {
   "cell_type": "code",
   "execution_count": 285,
   "id": "6089b31b-d4fa-4a67-841d-fd7ff589a0d9",
   "metadata": {},
   "outputs": [],
   "source": [
    "# Determine the number of movies (features) from the data\n",
    "num_movies = X.shape[1] "
   ]
  },
  {
   "cell_type": "code",
   "execution_count": 286,
   "id": "2e0421a0-5588-45ee-b2a5-f9d62d997384",
   "metadata": {},
   "outputs": [
    {
     "data": {
      "text/html": [
       "<pre style=\"white-space:pre;overflow-x:auto;line-height:normal;font-family:Menlo,'DejaVu Sans Mono',consolas,'Courier New',monospace\"><span style=\"font-weight: bold\">Model: \"sequential_3\"</span>\n",
       "</pre>\n"
      ],
      "text/plain": [
       "\u001b[1mModel: \"sequential_3\"\u001b[0m\n"
      ]
     },
     "metadata": {},
     "output_type": "display_data"
    },
    {
     "data": {
      "text/html": [
       "<pre style=\"white-space:pre;overflow-x:auto;line-height:normal;font-family:Menlo,'DejaVu Sans Mono',consolas,'Courier New',monospace\">┏━━━━━━━━━━━━━━━━━━━━━━━━━━━━━━━━━━━━━━┳━━━━━━━━━━━━━━━━━━━━━━━━━━━━━┳━━━━━━━━━━━━━━━━━┓\n",
       "┃<span style=\"font-weight: bold\"> Layer (type)                         </span>┃<span style=\"font-weight: bold\"> Output Shape                </span>┃<span style=\"font-weight: bold\">         Param # </span>┃\n",
       "┡━━━━━━━━━━━━━━━━━━━━━━━━━━━━━━━━━━━━━━╇━━━━━━━━━━━━━━━━━━━━━━━━━━━━━╇━━━━━━━━━━━━━━━━━┩\n",
       "│ dense_12 (<span style=\"color: #0087ff; text-decoration-color: #0087ff\">Dense</span>)                     │ (<span style=\"color: #00d7ff; text-decoration-color: #00d7ff\">None</span>, <span style=\"color: #00af00; text-decoration-color: #00af00\">512</span>)                 │         <span style=\"color: #00af00; text-decoration-color: #00af00\">861,696</span> │\n",
       "├──────────────────────────────────────┼─────────────────────────────┼─────────────────┤\n",
       "│ dense_13 (<span style=\"color: #0087ff; text-decoration-color: #0087ff\">Dense</span>)                     │ (<span style=\"color: #00d7ff; text-decoration-color: #00d7ff\">None</span>, <span style=\"color: #00af00; text-decoration-color: #00af00\">256</span>)                 │         <span style=\"color: #00af00; text-decoration-color: #00af00\">131,328</span> │\n",
       "├──────────────────────────────────────┼─────────────────────────────┼─────────────────┤\n",
       "│ dense_14 (<span style=\"color: #0087ff; text-decoration-color: #0087ff\">Dense</span>)                     │ (<span style=\"color: #00d7ff; text-decoration-color: #00d7ff\">None</span>, <span style=\"color: #00af00; text-decoration-color: #00af00\">512</span>)                 │         <span style=\"color: #00af00; text-decoration-color: #00af00\">131,584</span> │\n",
       "├──────────────────────────────────────┼─────────────────────────────┼─────────────────┤\n",
       "│ dense_15 (<span style=\"color: #0087ff; text-decoration-color: #0087ff\">Dense</span>)                     │ (<span style=\"color: #00d7ff; text-decoration-color: #00d7ff\">None</span>, <span style=\"color: #00af00; text-decoration-color: #00af00\">1682</span>)                │         <span style=\"color: #00af00; text-decoration-color: #00af00\">862,866</span> │\n",
       "└──────────────────────────────────────┴─────────────────────────────┴─────────────────┘\n",
       "</pre>\n"
      ],
      "text/plain": [
       "┏━━━━━━━━━━━━━━━━━━━━━━━━━━━━━━━━━━━━━━┳━━━━━━━━━━━━━━━━━━━━━━━━━━━━━┳━━━━━━━━━━━━━━━━━┓\n",
       "┃\u001b[1m \u001b[0m\u001b[1mLayer (type)                        \u001b[0m\u001b[1m \u001b[0m┃\u001b[1m \u001b[0m\u001b[1mOutput Shape               \u001b[0m\u001b[1m \u001b[0m┃\u001b[1m \u001b[0m\u001b[1m        Param #\u001b[0m\u001b[1m \u001b[0m┃\n",
       "┡━━━━━━━━━━━━━━━━━━━━━━━━━━━━━━━━━━━━━━╇━━━━━━━━━━━━━━━━━━━━━━━━━━━━━╇━━━━━━━━━━━━━━━━━┩\n",
       "│ dense_12 (\u001b[38;5;33mDense\u001b[0m)                     │ (\u001b[38;5;45mNone\u001b[0m, \u001b[38;5;34m512\u001b[0m)                 │         \u001b[38;5;34m861,696\u001b[0m │\n",
       "├──────────────────────────────────────┼─────────────────────────────┼─────────────────┤\n",
       "│ dense_13 (\u001b[38;5;33mDense\u001b[0m)                     │ (\u001b[38;5;45mNone\u001b[0m, \u001b[38;5;34m256\u001b[0m)                 │         \u001b[38;5;34m131,328\u001b[0m │\n",
       "├──────────────────────────────────────┼─────────────────────────────┼─────────────────┤\n",
       "│ dense_14 (\u001b[38;5;33mDense\u001b[0m)                     │ (\u001b[38;5;45mNone\u001b[0m, \u001b[38;5;34m512\u001b[0m)                 │         \u001b[38;5;34m131,584\u001b[0m │\n",
       "├──────────────────────────────────────┼─────────────────────────────┼─────────────────┤\n",
       "│ dense_15 (\u001b[38;5;33mDense\u001b[0m)                     │ (\u001b[38;5;45mNone\u001b[0m, \u001b[38;5;34m1682\u001b[0m)                │         \u001b[38;5;34m862,866\u001b[0m │\n",
       "└──────────────────────────────────────┴─────────────────────────────┴─────────────────┘\n"
      ]
     },
     "metadata": {},
     "output_type": "display_data"
    },
    {
     "data": {
      "text/html": [
       "<pre style=\"white-space:pre;overflow-x:auto;line-height:normal;font-family:Menlo,'DejaVu Sans Mono',consolas,'Courier New',monospace\"><span style=\"font-weight: bold\"> Total params: </span><span style=\"color: #00af00; text-decoration-color: #00af00\">1,987,474</span> (7.58 MB)\n",
       "</pre>\n"
      ],
      "text/plain": [
       "\u001b[1m Total params: \u001b[0m\u001b[38;5;34m1,987,474\u001b[0m (7.58 MB)\n"
      ]
     },
     "metadata": {},
     "output_type": "display_data"
    },
    {
     "data": {
      "text/html": [
       "<pre style=\"white-space:pre;overflow-x:auto;line-height:normal;font-family:Menlo,'DejaVu Sans Mono',consolas,'Courier New',monospace\"><span style=\"font-weight: bold\"> Trainable params: </span><span style=\"color: #00af00; text-decoration-color: #00af00\">1,987,474</span> (7.58 MB)\n",
       "</pre>\n"
      ],
      "text/plain": [
       "\u001b[1m Trainable params: \u001b[0m\u001b[38;5;34m1,987,474\u001b[0m (7.58 MB)\n"
      ]
     },
     "metadata": {},
     "output_type": "display_data"
    },
    {
     "data": {
      "text/html": [
       "<pre style=\"white-space:pre;overflow-x:auto;line-height:normal;font-family:Menlo,'DejaVu Sans Mono',consolas,'Courier New',monospace\"><span style=\"font-weight: bold\"> Non-trainable params: </span><span style=\"color: #00af00; text-decoration-color: #00af00\">0</span> (0.00 B)\n",
       "</pre>\n"
      ],
      "text/plain": [
       "\u001b[1m Non-trainable params: \u001b[0m\u001b[38;5;34m0\u001b[0m (0.00 B)\n"
      ]
     },
     "metadata": {},
     "output_type": "display_data"
    }
   ],
   "source": [
    "# Build the autoencoder:\n",
    "# The encoder compresses the data, and the decoder reconstructs it.\n",
    "# The bottleneck layer (256 neurons) captures the essential latent features.\n",
    "model = Sequential([\n",
    "    Input(shape=(num_movies,)),\n",
    "    Dense(512, activation='relu'),\n",
    "    Dense(256, activation='relu'),  # Bottleneck layer: latent representation\n",
    "    Dense(512, activation='relu'),\n",
    "    Dense(num_movies, activation='sigmoid')  # Output layer reconstructs normalized ratings\n",
    "])\n",
    "model.compile(optimizer='adam', loss='mse')\n",
    "model.summary()"
   ]
  },
  {
   "cell_type": "code",
   "execution_count": 287,
   "id": "df78490e-8882-46c7-af38-0e95f6f981d0",
   "metadata": {},
   "outputs": [
    {
     "name": "stdout",
     "output_type": "stream",
     "text": [
      "Epoch 1/50\n",
      "\u001b[1m43/43\u001b[0m \u001b[32m━━━━━━━━━━━━━━━━━━━━\u001b[0m\u001b[37m\u001b[0m \u001b[1m1s\u001b[0m 7ms/step - loss: 0.1147 - val_loss: 0.0313\n",
      "Epoch 2/50\n",
      "\u001b[1m43/43\u001b[0m \u001b[32m━━━━━━━━━━━━━━━━━━━━\u001b[0m\u001b[37m\u001b[0m \u001b[1m0s\u001b[0m 4ms/step - loss: 0.0360 - val_loss: 0.0316\n",
      "Epoch 3/50\n",
      "\u001b[1m43/43\u001b[0m \u001b[32m━━━━━━━━━━━━━━━━━━━━\u001b[0m\u001b[37m\u001b[0m \u001b[1m0s\u001b[0m 4ms/step - loss: 0.0340 - val_loss: 0.0317\n",
      "Epoch 4/50\n",
      "\u001b[1m43/43\u001b[0m \u001b[32m━━━━━━━━━━━━━━━━━━━━\u001b[0m\u001b[37m\u001b[0m \u001b[1m0s\u001b[0m 4ms/step - loss: 0.0333 - val_loss: 0.0317\n",
      "Epoch 5/50\n",
      "\u001b[1m43/43\u001b[0m \u001b[32m━━━━━━━━━━━━━━━━━━━━\u001b[0m\u001b[37m\u001b[0m \u001b[1m0s\u001b[0m 4ms/step - loss: 0.0365 - val_loss: 0.0316\n",
      "Epoch 6/50\n",
      "\u001b[1m43/43\u001b[0m \u001b[32m━━━━━━━━━━━━━━━━━━━━\u001b[0m\u001b[37m\u001b[0m \u001b[1m0s\u001b[0m 4ms/step - loss: 0.0344 - val_loss: 0.0318\n",
      "Epoch 7/50\n",
      "\u001b[1m43/43\u001b[0m \u001b[32m━━━━━━━━━━━━━━━━━━━━\u001b[0m\u001b[37m\u001b[0m \u001b[1m0s\u001b[0m 4ms/step - loss: 0.0329 - val_loss: 0.0319\n",
      "Epoch 8/50\n",
      "\u001b[1m43/43\u001b[0m \u001b[32m━━━━━━━━━━━━━━━━━━━━\u001b[0m\u001b[37m\u001b[0m \u001b[1m0s\u001b[0m 4ms/step - loss: 0.0356 - val_loss: 0.0319\n",
      "Epoch 9/50\n",
      "\u001b[1m43/43\u001b[0m \u001b[32m━━━━━━━━━━━━━━━━━━━━\u001b[0m\u001b[37m\u001b[0m \u001b[1m0s\u001b[0m 4ms/step - loss: 0.0340 - val_loss: 0.0319\n",
      "Epoch 10/50\n",
      "\u001b[1m43/43\u001b[0m \u001b[32m━━━━━━━━━━━━━━━━━━━━\u001b[0m\u001b[37m\u001b[0m \u001b[1m0s\u001b[0m 4ms/step - loss: 0.0348 - val_loss: 0.0319\n",
      "Epoch 11/50\n",
      "\u001b[1m43/43\u001b[0m \u001b[32m━━━━━━━━━━━━━━━━━━━━\u001b[0m\u001b[37m\u001b[0m \u001b[1m0s\u001b[0m 4ms/step - loss: 0.0344 - val_loss: 0.0318\n",
      "Epoch 12/50\n",
      "\u001b[1m43/43\u001b[0m \u001b[32m━━━━━━━━━━━━━━━━━━━━\u001b[0m\u001b[37m\u001b[0m \u001b[1m0s\u001b[0m 4ms/step - loss: 0.0357 - val_loss: 0.0323\n",
      "Epoch 13/50\n",
      "\u001b[1m43/43\u001b[0m \u001b[32m━━━━━━━━━━━━━━━━━━━━\u001b[0m\u001b[37m\u001b[0m \u001b[1m0s\u001b[0m 4ms/step - loss: 0.0374 - val_loss: 0.0320\n",
      "Epoch 14/50\n",
      "\u001b[1m43/43\u001b[0m \u001b[32m━━━━━━━━━━━━━━━━━━━━\u001b[0m\u001b[37m\u001b[0m \u001b[1m0s\u001b[0m 4ms/step - loss: 0.0341 - val_loss: 0.0317\n",
      "Epoch 15/50\n",
      "\u001b[1m43/43\u001b[0m \u001b[32m━━━━━━━━━━━━━━━━━━━━\u001b[0m\u001b[37m\u001b[0m \u001b[1m0s\u001b[0m 4ms/step - loss: 0.0346 - val_loss: 0.0312\n",
      "Epoch 16/50\n",
      "\u001b[1m43/43\u001b[0m \u001b[32m━━━━━━━━━━━━━━━━━━━━\u001b[0m\u001b[37m\u001b[0m \u001b[1m0s\u001b[0m 4ms/step - loss: 0.0335 - val_loss: 0.0268\n",
      "Epoch 17/50\n",
      "\u001b[1m43/43\u001b[0m \u001b[32m━━━━━━━━━━━━━━━━━━━━\u001b[0m\u001b[37m\u001b[0m \u001b[1m0s\u001b[0m 4ms/step - loss: 0.0268 - val_loss: 0.0229\n",
      "Epoch 18/50\n",
      "\u001b[1m43/43\u001b[0m \u001b[32m━━━━━━━━━━━━━━━━━━━━\u001b[0m\u001b[37m\u001b[0m \u001b[1m0s\u001b[0m 4ms/step - loss: 0.0225 - val_loss: 0.0227\n",
      "Epoch 19/50\n",
      "\u001b[1m43/43\u001b[0m \u001b[32m━━━━━━━━━━━━━━━━━━━━\u001b[0m\u001b[37m\u001b[0m \u001b[1m0s\u001b[0m 4ms/step - loss: 0.0213 - val_loss: 0.0218\n",
      "Epoch 20/50\n",
      "\u001b[1m43/43\u001b[0m \u001b[32m━━━━━━━━━━━━━━━━━━━━\u001b[0m\u001b[37m\u001b[0m \u001b[1m0s\u001b[0m 4ms/step - loss: 0.0199 - val_loss: 0.0215\n",
      "Epoch 21/50\n",
      "\u001b[1m43/43\u001b[0m \u001b[32m━━━━━━━━━━━━━━━━━━━━\u001b[0m\u001b[37m\u001b[0m \u001b[1m0s\u001b[0m 4ms/step - loss: 0.0193 - val_loss: 0.0217\n",
      "Epoch 22/50\n",
      "\u001b[1m43/43\u001b[0m \u001b[32m━━━━━━━━━━━━━━━━━━━━\u001b[0m\u001b[37m\u001b[0m \u001b[1m0s\u001b[0m 4ms/step - loss: 0.0181 - val_loss: 0.0206\n",
      "Epoch 23/50\n",
      "\u001b[1m43/43\u001b[0m \u001b[32m━━━━━━━━━━━━━━━━━━━━\u001b[0m\u001b[37m\u001b[0m \u001b[1m0s\u001b[0m 4ms/step - loss: 0.0168 - val_loss: 0.0208\n",
      "Epoch 24/50\n",
      "\u001b[1m43/43\u001b[0m \u001b[32m━━━━━━━━━━━━━━━━━━━━\u001b[0m\u001b[37m\u001b[0m \u001b[1m0s\u001b[0m 4ms/step - loss: 0.0160 - val_loss: 0.0204\n",
      "Epoch 25/50\n",
      "\u001b[1m43/43\u001b[0m \u001b[32m━━━━━━━━━━━━━━━━━━━━\u001b[0m\u001b[37m\u001b[0m \u001b[1m0s\u001b[0m 4ms/step - loss: 0.0153 - val_loss: 0.0201\n",
      "Epoch 26/50\n",
      "\u001b[1m43/43\u001b[0m \u001b[32m━━━━━━━━━━━━━━━━━━━━\u001b[0m\u001b[37m\u001b[0m \u001b[1m0s\u001b[0m 4ms/step - loss: 0.0142 - val_loss: 0.0198\n",
      "Epoch 27/50\n",
      "\u001b[1m43/43\u001b[0m \u001b[32m━━━━━━━━━━━━━━━━━━━━\u001b[0m\u001b[37m\u001b[0m \u001b[1m0s\u001b[0m 4ms/step - loss: 0.0142 - val_loss: 0.0202\n",
      "Epoch 28/50\n",
      "\u001b[1m43/43\u001b[0m \u001b[32m━━━━━━━━━━━━━━━━━━━━\u001b[0m\u001b[37m\u001b[0m \u001b[1m0s\u001b[0m 5ms/step - loss: 0.0130 - val_loss: 0.0205\n",
      "Epoch 29/50\n",
      "\u001b[1m43/43\u001b[0m \u001b[32m━━━━━━━━━━━━━━━━━━━━\u001b[0m\u001b[37m\u001b[0m \u001b[1m0s\u001b[0m 6ms/step - loss: 0.0114 - val_loss: 0.0207\n",
      "Epoch 30/50\n",
      "\u001b[1m43/43\u001b[0m \u001b[32m━━━━━━━━━━━━━━━━━━━━\u001b[0m\u001b[37m\u001b[0m \u001b[1m0s\u001b[0m 6ms/step - loss: 0.0109 - val_loss: 0.0205\n",
      "Epoch 31/50\n",
      "\u001b[1m43/43\u001b[0m \u001b[32m━━━━━━━━━━━━━━━━━━━━\u001b[0m\u001b[37m\u001b[0m \u001b[1m0s\u001b[0m 7ms/step - loss: 0.0098 - val_loss: 0.0206\n",
      "Epoch 32/50\n",
      "\u001b[1m43/43\u001b[0m \u001b[32m━━━━━━━━━━━━━━━━━━━━\u001b[0m\u001b[37m\u001b[0m \u001b[1m0s\u001b[0m 7ms/step - loss: 0.0093 - val_loss: 0.0204\n",
      "Epoch 33/50\n",
      "\u001b[1m43/43\u001b[0m \u001b[32m━━━━━━━━━━━━━━━━━━━━\u001b[0m\u001b[37m\u001b[0m \u001b[1m0s\u001b[0m 7ms/step - loss: 0.0082 - val_loss: 0.0206\n",
      "Epoch 34/50\n",
      "\u001b[1m43/43\u001b[0m \u001b[32m━━━━━━━━━━━━━━━━━━━━\u001b[0m\u001b[37m\u001b[0m \u001b[1m0s\u001b[0m 7ms/step - loss: 0.0076 - val_loss: 0.0206\n",
      "Epoch 35/50\n",
      "\u001b[1m43/43\u001b[0m \u001b[32m━━━━━━━━━━━━━━━━━━━━\u001b[0m\u001b[37m\u001b[0m \u001b[1m0s\u001b[0m 7ms/step - loss: 0.0068 - val_loss: 0.0202\n",
      "Epoch 36/50\n",
      "\u001b[1m43/43\u001b[0m \u001b[32m━━━━━━━━━━━━━━━━━━━━\u001b[0m\u001b[37m\u001b[0m \u001b[1m0s\u001b[0m 7ms/step - loss: 0.0065 - val_loss: 0.0203\n",
      "Epoch 37/50\n",
      "\u001b[1m43/43\u001b[0m \u001b[32m━━━━━━━━━━━━━━━━━━━━\u001b[0m\u001b[37m\u001b[0m \u001b[1m0s\u001b[0m 6ms/step - loss: 0.0056 - val_loss: 0.0202\n",
      "Epoch 38/50\n",
      "\u001b[1m43/43\u001b[0m \u001b[32m━━━━━━━━━━━━━━━━━━━━\u001b[0m\u001b[37m\u001b[0m \u001b[1m0s\u001b[0m 7ms/step - loss: 0.0053 - val_loss: 0.0204\n",
      "Epoch 39/50\n",
      "\u001b[1m43/43\u001b[0m \u001b[32m━━━━━━━━━━━━━━━━━━━━\u001b[0m\u001b[37m\u001b[0m \u001b[1m0s\u001b[0m 7ms/step - loss: 0.0048 - val_loss: 0.0208\n",
      "Epoch 40/50\n",
      "\u001b[1m43/43\u001b[0m \u001b[32m━━━━━━━━━━━━━━━━━━━━\u001b[0m\u001b[37m\u001b[0m \u001b[1m0s\u001b[0m 7ms/step - loss: 0.0045 - val_loss: 0.0205\n",
      "Epoch 41/50\n",
      "\u001b[1m43/43\u001b[0m \u001b[32m━━━━━━━━━━━━━━━━━━━━\u001b[0m\u001b[37m\u001b[0m \u001b[1m0s\u001b[0m 7ms/step - loss: 0.0041 - val_loss: 0.0207\n",
      "Epoch 42/50\n",
      "\u001b[1m43/43\u001b[0m \u001b[32m━━━━━━━━━━━━━━━━━━━━\u001b[0m\u001b[37m\u001b[0m \u001b[1m0s\u001b[0m 7ms/step - loss: 0.0039 - val_loss: 0.0206\n",
      "Epoch 43/50\n",
      "\u001b[1m43/43\u001b[0m \u001b[32m━━━━━━━━━━━━━━━━━━━━\u001b[0m\u001b[37m\u001b[0m \u001b[1m0s\u001b[0m 7ms/step - loss: 0.0035 - val_loss: 0.0200\n",
      "Epoch 44/50\n",
      "\u001b[1m43/43\u001b[0m \u001b[32m━━━━━━━━━━━━━━━━━━━━\u001b[0m\u001b[37m\u001b[0m \u001b[1m0s\u001b[0m 7ms/step - loss: 0.0036 - val_loss: 0.0204\n",
      "Epoch 45/50\n",
      "\u001b[1m43/43\u001b[0m \u001b[32m━━━━━━━━━━━━━━━━━━━━\u001b[0m\u001b[37m\u001b[0m \u001b[1m0s\u001b[0m 7ms/step - loss: 0.0034 - val_loss: 0.0204\n",
      "Epoch 46/50\n",
      "\u001b[1m43/43\u001b[0m \u001b[32m━━━━━━━━━━━━━━━━━━━━\u001b[0m\u001b[37m\u001b[0m \u001b[1m0s\u001b[0m 7ms/step - loss: 0.0032 - val_loss: 0.0203\n",
      "Epoch 47/50\n",
      "\u001b[1m43/43\u001b[0m \u001b[32m━━━━━━━━━━━━━━━━━━━━\u001b[0m\u001b[37m\u001b[0m \u001b[1m0s\u001b[0m 7ms/step - loss: 0.0029 - val_loss: 0.0204\n",
      "Epoch 48/50\n",
      "\u001b[1m43/43\u001b[0m \u001b[32m━━━━━━━━━━━━━━━━━━━━\u001b[0m\u001b[37m\u001b[0m \u001b[1m0s\u001b[0m 7ms/step - loss: 0.0028 - val_loss: 0.0205\n",
      "Epoch 49/50\n",
      "\u001b[1m43/43\u001b[0m \u001b[32m━━━━━━━━━━━━━━━━━━━━\u001b[0m\u001b[37m\u001b[0m \u001b[1m0s\u001b[0m 7ms/step - loss: 0.0027 - val_loss: 0.0207\n",
      "Epoch 50/50\n",
      "\u001b[1m43/43\u001b[0m \u001b[32m━━━━━━━━━━━━━━━━━━━━\u001b[0m\u001b[37m\u001b[0m \u001b[1m0s\u001b[0m 6ms/step - loss: 0.0028 - val_loss: 0.0205\n"
     ]
    }
   ],
   "source": [
    "# Train the autoencoder on the training set\n",
    "history = model.fit(X_train, y_train, epochs=50, batch_size=16, validation_split=0.1, verbose=1)"
   ]
  },
  {
   "cell_type": "markdown",
   "id": "e74a381a-2794-4911-a11c-0239ed15111f",
   "metadata": {},
   "source": [
    "The training process shows a clear convergence trend:  \n",
    "Initial Phase (Epochs 1–10):  \n",
    "The training loss and validation loss both decrease significantly, indicating that the model is learning useful patterns from the data.  \n",
    "Middle Phase (Epochs 10–20):  \n",
    "Validation loss drops more sharply than training loss, suggesting that the model generalizes better after sufficient learning.  \n",
    "Stabilization Phase (After Epoch 20):  \n",
    "Validation loss stabilizes around 0.020–0.021 and training loss continues to decrease slightly.  \n",
    "No sign of overfitting: Validation loss does not start increasing, which means the model is not memorizing noise.  \n",
    "No sign of underfitting: Loss values are reasonably low and stable.  \n",
    "Overall:  \n",
    "The ANN Autoencoder achieves good reconstruction ability without overfitting.  \n",
    "The final validation MSE (~0.0203) shows that the model effectively captures the latent relationships between users and movies.  "
   ]
  },
  {
   "cell_type": "code",
   "execution_count": 289,
   "id": "49d4d45a-b130-4930-9ba4-4df7914f21a2",
   "metadata": {},
   "outputs": [
    {
     "name": "stdout",
     "output_type": "stream",
     "text": [
      "WARNING:tensorflow:5 out of the last 13 calls to <function TensorFlowTrainer.make_predict_function.<locals>.one_step_on_data_distributed at 0x00000204B5963D80> triggered tf.function retracing. Tracing is expensive and the excessive number of tracings could be due to (1) creating @tf.function repeatedly in a loop, (2) passing tensors with different shapes, (3) passing Python objects instead of tensors. For (1), please define your @tf.function outside of the loop. For (2), @tf.function has reduce_retracing=True option that can avoid unnecessary retracing. For (3), please refer to https://www.tensorflow.org/guide/function#controlling_retracing and https://www.tensorflow.org/api_docs/python/tf/function for  more details.\n",
      "\u001b[1m6/6\u001b[0m \u001b[32m━━━━━━━━━━━━━━━━━━━━\u001b[0m\u001b[37m\u001b[0m \u001b[1m0s\u001b[0m 13ms/step\n",
      "\n",
      "ANN Autoencoder Test MSE: 0.0207\n",
      "ANN Autoencoder Test RMSE: 0.1439\n"
     ]
    }
   ],
   "source": [
    "# Evaluate the autoencoder on the test set\n",
    "y_pred = model.predict(X_test)\n",
    "ann_mse = mean_squared_error(y_test, y_pred)\n",
    "ann_rmse = np.sqrt(ann_mse)\n",
    "print(\"\\nANN Autoencoder Test MSE: {:.4f}\".format(ann_mse))\n",
    "print(\"ANN Autoencoder Test RMSE: {:.4f}\".format(ann_rmse))"
   ]
  },
  {
   "cell_type": "code",
   "execution_count": 290,
   "id": "0ea60f1d-0f37-4c36-b4e4-d7c5e0f3d846",
   "metadata": {},
   "outputs": [
    {
     "data": {
      "image/png": "[encoded data removed]",
      "text/plain": [
       "<Figure size 600x500 with 1 Axes>"
      ]
     },
     "metadata": {},
     "output_type": "display_data"
    }
   ],
   "source": [
    "# Visualization: Plot training and validation loss\n",
    "plt.figure(figsize=(6, 5))\n",
    "plt.plot(history.history['loss'], label='Train Loss',color='red')\n",
    "plt.plot(history.history['val_loss'], label='Validation Loss',color='green')\n",
    "plt.title('ANN Model Training Loss')\n",
    "plt.xlabel('Epoch')\n",
    "plt.ylabel('MSE Loss')\n",
    "plt.legend()\n",
    "plt.show()"
   ]
  },
  {
   "cell_type": "markdown",
   "id": "50a11c2c-25e9-4537-9069-7b377d88658b",
   "metadata": {},
   "source": [
    "<font color ='blue'>The training loss steadily decreases and validation loss stabilizes around epoch 20, suggesting the model converges without severe overfitting.\""
   ]
  },
  {
   "cell_type": "code",
   "execution_count": 292,
   "id": "d6d6035d-e1a5-4330-a0bf-04242a9e70f7",
   "metadata": {},
   "outputs": [
    {
     "data": {
      "image/png": "[encoded data removed]",
      "text/plain": [
       "<Figure size 600x500 with 1 Axes>"
      ]
     },
     "metadata": {},
     "output_type": "display_data"
    }
   ],
   "source": [
    "# Visualization: Distribution of Reconstruction Error on Test Set\n",
    "reconstruction_error = np.mean(np.square(y_test - y_pred), axis=1)\n",
    "plt.figure(figsize=(6, 5))\n",
    "plt.hist(reconstruction_error, bins=30, edgecolor='black', color='salmon')\n",
    "plt.title(\"Distribution of Reconstruction Error (MSE) on Test Set\")\n",
    "plt.xlabel(\"Reconstruction Error\")\n",
    "plt.ylabel(\"Frequency\")\n",
    "plt.show()"
   ]
  },
  {
   "cell_type": "markdown",
   "id": "7c4ab628-bc4c-4f34-be8c-1446b261dbfb",
   "metadata": {},
   "source": [
    "<font color='blue'> The reconstruction error histogram shows that most users have very low errors, indicating the autoencoder accurately captures user rating patterns. A few users with higher errors likely represent unusual behaviors. Overall, the left-skewed distribution suggests the model generalizes well and effectively learns dominant rating trends."
   ]
  },
  {
   "cell_type": "markdown",
   "id": "c4e4d18f-a857-47f0-bd62-4e7156fa1222",
   "metadata": {},
   "source": [
    "#### 5. SOM Implementation for User Clustering"
   ]
  },
  {
   "cell_type": "code",
   "execution_count": 295,
   "id": "e047fb8e-5f9a-482d-b486-967999b628c1",
   "metadata": {},
   "outputs": [],
   "source": [
    "# For SOM, use the normalized user-item matrix (each row is a user)\n",
    "data_for_som = normalized_matrix.values"
   ]
  },
  {
   "cell_type": "code",
   "execution_count": 296,
   "id": "ae979fa1-a1e8-4a17-a68b-c432c92c1c99",
   "metadata": {},
   "outputs": [],
   "source": [
    "# Initialize SOM parameters:\n",
    "# - A 10x10 grid is used as the output (competitive) layer.\n",
    "# - Each neuron has a weight vector with a dimension equal to the number of movies.\n",
    "som_grid_rows = 10\n",
    "som_grid_cols = 10\n",
    "som = MiniSom(som_grid_rows, som_grid_cols, num_movies, sigma=1.0, learning_rate=0.5)"
   ]
  },
  {
   "cell_type": "code",
   "execution_count": 297,
   "id": "bb2a1c95-6fd4-4ffc-a24c-64b3ef04a5e8",
   "metadata": {},
   "outputs": [],
   "source": [
    "# Initialize SOM weights randomly\n",
    "som.random_weights_init(data_for_som)"
   ]
  },
  {
   "cell_type": "code",
   "execution_count": 298,
   "id": "d695a4e5-4c20-4d60-8445-ad50b410afa8",
   "metadata": {},
   "outputs": [],
   "source": [
    "# Competitive Learning in SOM\n",
    "# Steps:\n",
    "# 1. Randomly select an input vector.\n",
    "# 2. Compute the distance between the input and all neurons’ weight vectors.\n",
    "# 3. Identify the Best Matching Unit (BMU) with the smallest distance.\n",
    "# 4. Calculate the neighborhood radius (starting large, then decreasing).\n",
    "# 5. Update the weights of the BMU and its neighbors to resemble the input vector.\n",
    "# 6. Repeat for a set number of iterations.\n",
    "som.train(data_for_som, 100)  # Train for 100 iterations (adjust as needed)"
   ]
  },
  {
   "cell_type": "code",
   "execution_count": 299,
   "id": "baed0cf6-6b3c-4bb9-8ed2-eae2694226f9",
   "metadata": {},
   "outputs": [
    {
     "data": {
      "image/png": "[encoded data removed]",
      "text/plain": [
       "<Figure size 600x600 with 2 Axes>"
      ]
     },
     "metadata": {},
     "output_type": "display_data"
    }
   ],
   "source": [
    "# Visualization: SOM U-Matrix (Distance Map)\n",
    "plt.figure(figsize=(6, 6))\n",
    "plt.pcolor(som.distance_map().T, cmap='viridis')\n",
    "plt.colorbar(label='Distance')\n",
    "plt.title('SOM U-Matrix')\n",
    "plt.xlabel('SOM Grid X')\n",
    "plt.ylabel('SOM Grid Y')\n",
    "plt.show()"
   ]
  },
  {
   "cell_type": "markdown",
   "id": "b73b2763-e903-46d0-a4ab-dfd6d2f42448",
   "metadata": {},
   "source": [
    "<font color='blue'>Several well-separated regions appear around the middle right and upper center of the SOM grid.  \n",
    "This suggests the existence of distinct clusters of users with different movie rating behaviors.  \n",
    "Some small darker patches at the bottom-left indicate dense homogeneous clusters where users have very similar preferences."
   ]
  },
  {
   "cell_type": "code",
   "execution_count": 301,
   "id": "9c24b669-a11e-4fed-ac86-e8c3b1a7dce1",
   "metadata": {},
   "outputs": [
    {
     "data": {
      "image/png": "[encoded data removed]",
      "text/plain": [
       "<Figure size 640x480 with 1 Axes>"
      ]
     },
     "metadata": {},
     "output_type": "display_data"
    }
   ],
   "source": [
    "# Plot the winning node (BMU) for each user sample on the SOM grid\n",
    "markers = ['o', 's', 'D', '^', 'v']\n",
    "colors = ['r', 'g', 'b', 'c', 'm']\n",
    "for idx, sample in enumerate(data_for_som):\n",
    "    w = som.winner(sample)\n",
    "    marker = markers[idx % len(markers)]\n",
    "    color = colors[idx % len(colors)]\n",
    "    plt.plot(w[0] + 0.5, w[1] + 0.5, marker, markerfacecolor='None',\n",
    "             markeredgecolor=color, markersize=10, markeredgewidth=2)\n",
    "plt.show()"
   ]
  },
  {
   "cell_type": "markdown",
   "id": "51f7e7c5-2991-4215-9e81-256003705f3d",
   "metadata": {},
   "source": [
    "<font color='blue'> Different markers and colors show users assigned to different parts of the grid.  \n",
    "Some BMUs are shared by many users (overlapping markers), while some neurons are more isolated."
   ]
  },
  {
   "cell_type": "code",
   "execution_count": 303,
   "id": "e1703344-8f9f-4c62-a485-91f4662229dd",
   "metadata": {},
   "outputs": [],
   "source": [
    "# Additional Visualization: Frequency of User Mappings on the SOM Grid\n",
    "winner_coordinates = np.array([som.winner(x) for x in data_for_som])\n",
    "frequency = Counter(map(tuple, winner_coordinates))\n",
    "frequency_matrix = np.zeros((som_grid_rows, som_grid_cols))\n",
    "for (i, j), count in frequency.items():\n",
    "    frequency_matrix[i, j] = count"
   ]
  },
  {
   "cell_type": "code",
   "execution_count": 304,
   "id": "c089e0d1-9892-4dcb-9d30-e252d1c5868d",
   "metadata": {},
   "outputs": [
    {
     "data": {
      "image/png": "[encoded data removed]",
      "text/plain": [
       "<Figure size 600x600 with 2 Axes>"
      ]
     },
     "metadata": {},
     "output_type": "display_data"
    }
   ],
   "source": [
    "plt.figure(figsize=(6, 6))\n",
    "plt.imshow(frequency_matrix.T, cmap='plasma', origin='lower')\n",
    "plt.colorbar(label='Frequency')\n",
    "plt.title(\"Frequency of User Mappings on SOM Grid\")\n",
    "plt.xlabel(\"SOM Grid X\")\n",
    "plt.ylabel(\"SOM Grid Y\")\n",
    "plt.show()"
   ]
  },
  {
   "cell_type": "markdown",
   "id": "326d6339-b1c0-4573-8447-4665aeee6639",
   "metadata": {},
   "source": [
    "<font color='blue'> High-density spots (bright yellow on the map) around (X=3, Y=7) and (X=7, Y=0) suggest common user behavior patterns shared among many users.  \n",
    "Sparse or empty regions indicate outlier users or rare behaviors not shared by others."
   ]
  },
  {
   "cell_type": "markdown",
   "id": "52d3517d-e89d-4585-bd90-ec9641bdc435",
   "metadata": {},
   "source": [
    "#### 6. Comparative Analysis: Baseline vs. ANN"
   ]
  },
  {
   "cell_type": "code",
   "execution_count": 307,
   "id": "8fcf8ab2-5125-4c9b-aa79-a0459335cf44",
   "metadata": {},
   "outputs": [
    {
     "name": "stdout",
     "output_type": "stream",
     "text": [
      "\n",
      "Comparative Analysis:\n",
      "Baseline Test MSE (Mean Rating Prediction): 0.0279\n",
      "Baseline Test RMSE (Mean Rating Prediction): 0.1669\n",
      "ANN Autoencoder Test MSE: 0.0207\n",
      "ANN Autoencoder Test RMSE: 0.1439\n"
     ]
    }
   ],
   "source": [
    "print(\"\\nComparative Analysis:\")\n",
    "print(\"Baseline Test MSE (Mean Rating Prediction): {:.4f}\".format(baseline_mse))\n",
    "print(\"Baseline Test RMSE (Mean Rating Prediction): {:.4f}\".format(baseline_rmse))\n",
    "print(\"ANN Autoencoder Test MSE: {:.4f}\".format(ann_mse))\n",
    "print(\"ANN Autoencoder Test RMSE: {:.4f}\".format(ann_rmse))"
   ]
  },
  {
   "cell_type": "markdown",
   "id": "8157b10a-14a6-4b58-b5ad-0de7eefd155d",
   "metadata": {},
   "source": [
    "<font color='blue'> The ANN Autoencoder reduced RMSE by approximately 14% compared to the baseline model."
   ]
  },
  {
   "cell_type": "markdown",
   "id": "8f69e04f-0a73-4fe3-9ca5-138c9d604dae",
   "metadata": {},
   "source": [
    "### Conclusion"
   ]
  },
  {
   "cell_type": "markdown",
   "id": "b16e5b9a-83c9-48ff-9329-3e14b97d077e",
   "metadata": {},
   "source": [
    "In this project:\n",
    "- The ANN autoencoder was effective in reconstructing user ratings, demonstrating its ability to learn non-linear relationships.\n",
    "- The SOM provided valuable insights into user clustering via its U-Matrix and frequency maps.\n",
    "- Comparative analysis shows that advanced techniques (ANN and SOM) improve both predictive accuracy and interpretability compared to a baseline approach.\n",
    "\n",
    "These methods, when combined, offer both improved recommendation performance and a deeper understanding of user behavior,\n",
    "which is crucial for designing effective recommendation systems in real-world applications."
   ]
  },
  {
   "cell_type": "code",
   "execution_count": 5,
   "id": "560389ec-2166-4343-9989-fb671640b610",
   "metadata": {},
   "outputs": [
    {
     "name": "stdout",
     "output_type": "stream",
     "text": [
      "Overwriting ANN_SOM.py\n"
     ]
    }
   ],
   "source": [
    "%%writefile ANN_SOM.py\n",
    "import streamlit as st\n",
    "import numpy as np\n",
    "import pandas as pd\n",
    "import matplotlib.pyplot as plt\n",
    "from tensorflow.keras.models import Sequential\n",
    "from tensorflow.keras.layers import Dense, Input\n",
    "from sklearn.model_selection import train_test_split\n",
    "from sklearn.metrics import mean_squared_error\n",
    "from minisom import MiniSom\n",
    "from collections import Counter\n",
    "import io\n",
    "\n",
    "# Page config and sidebar background CSS\n",
    "st.set_page_config(page_title=\"ANN & SOM Recommendation\", layout='wide')\n",
    "sidebar_bg = \"\"\"\n",
    "<style>\n",
    "[data-testid=\"stSidebar\"] > div:first-child {\n",
    "  background-image: url('https://miro.medium.com/v2/resize:fit:1400/1*cJEECUHB3fbJx-hc_70Zmg.jpeg');\n",
    "  background-size: cover;\n",
    "  background-position: center;\n",
    "}\n",
    "/* Sidebar text color */\n",
    "[data-testid=\"stSidebar\"] * {\n",
    "  color: darkblue !important;\n",
    "}\n",
    "</style>\n",
    "\"\"\"\n",
    "st.markdown(sidebar_bg, unsafe_allow_html=True)\n",
    "\n",
    "# Sidebar navigation and data upload\n",
    "st.sidebar.title(\"Navigation & Data\")\n",
    "section = st.sidebar.radio(\"Go to\", [\n",
    "    \"Home\",\n",
    "    \"Introduction\",\n",
    "    \"Data Overview\",\n",
    "    \"Autoencoder\",\n",
    "    \"Recommendations\",\n",
    "    \"SOM Clustering\",\n",
    "    \"Comparison\"\n",
    "])\n",
    "file_upload = st.sidebar.file_uploader(\"Upload MovieLens data (u.data)\", type=['csv','txt'])\n",
    "\n",
    "# Helper functions\n",
    "def load_movielens(path=None):\n",
    "    cols = ['user_id', 'movie_id', 'rating', 'timestamp']\n",
    "    return pd.read_csv(path, sep='\\t', names=cols) if path else pd.read_csv('u.data', sep='\\t', names=cols)\n",
    "\n",
    "def preprocess(df):\n",
    "    user_item = df.pivot(index='user_id', columns='movie_id', values='rating').fillna(0)\n",
    "    return user_item, user_item / 5.0\n",
    "\n",
    "def train_autoencoder(X_train, latent_dim, epochs, batch_size):\n",
    "    num_movies = X_train.shape[1]\n",
    "    model = Sequential([\n",
    "        Input(shape=(num_movies,)),\n",
    "        Dense(512, activation='relu'),\n",
    "        Dense(latent_dim, activation='relu'),\n",
    "        Dense(512, activation='relu'),\n",
    "        Dense(num_movies, activation='sigmoid')\n",
    "    ])\n",
    "    model.compile(optimizer='adam', loss='mse')\n",
    "    history = model.fit(X_train, X_train, epochs=epochs, batch_size=batch_size, validation_split=0.1, verbose=0)\n",
    "    return model, history\n",
    "\n",
    "def train_som(data, grid_rows, grid_cols, sigma, lr, iterations):\n",
    "    som = MiniSom(grid_rows, grid_cols, data.shape[1], sigma=sigma, learning_rate=lr)\n",
    "    som.random_weights_init(data)\n",
    "    som.train(data, iterations, verbose=False)\n",
    "    return som\n",
    "\n",
    "# Home section\n",
    "if section == \"Home\":\n",
    "    page_bg_img = \"\"\"\n",
    "    <style>\n",
    "    [data-testid=\"stAppViewContainer\"] {\n",
    "      background-image: url('https://cdn.ceps.eu/wp-content/uploads/2024/07/vecteezy_ai-generated-ai-circuit-board-technology-background_37348385-scaled.jpg');\n",
    "      background-size: cover;\n",
    "      background-position: center;\n",
    "    }\n",
    "    </style>\n",
    "    \"\"\"\n",
    "    st.markdown(page_bg_img, unsafe_allow_html=True)\n",
    "    st.markdown(\"<h1 style='color:yellow; text-align:center; margin-top:200px;'>Recommendation System: ANN Autoencoder & SOM Clustering</h1>\", unsafe_allow_html=True)\n",
    "    st.markdown(\"---\")\n",
    "\n",
    "# Introduction section\n",
    "elif section == \"Introduction\":\n",
    "    st.title(\":blue[Technical Overview & Motivation]\")\n",
    "    st.markdown(\n",
    "        \"\"\"\n",
    "        Recommendation systems filter and suggest items (movies, products, music) by predicting user preferences from historical data. Widely used in e-commerce (Amazon), streaming (Netflix, Spotify), and social media (YouTube).\n",
    "        \n",
    "        **Autoencoder (ANN)**  \n",
    "        - Learns a compressed latent representation of user–item interactions via an encoder–decoder architecture.  \n",
    "        - Handles sparse matrices by effectively reconstructing missing ratings.  \n",
    "        - Proven in winning the Netflix Prize with deep learning enhancements.\n",
    "        \n",
    "        **Self-Organizing Map (SOM)**  \n",
    "        - Unsupervised, competitive neural network that maps high-dimensional data to a 2D grid.  \n",
    "        - Preserves topological relations: similar users cluster together.  \n",
    "        - Visualizes latent structures and identifies user segments or atypical behavior.\n",
    "        \"\"\",\n",
    "        unsafe_allow_html=True\n",
    "    )\n",
    "    st.markdown(\"---\")\n",
    "\n",
    "# Other sections\n",
    "else:\n",
    "    with st.spinner('Loading data...'):\n",
    "        df = load_movielens(file_upload)\n",
    "        user_item, normalized = preprocess(df)\n",
    "        X = normalized.values\n",
    "        X_train, X_test = train_test_split(X, test_size=0.2, random_state=42)\n",
    "\n",
    "    if section == \"Data Overview\":\n",
    "        st.subheader(\":blue[Data Overview]\")\n",
    "        st.write(df.head())\n",
    "        st.write(f\"Users: {user_item.shape[0]}, Movies: {user_item.shape[1]}\")\n",
    "        fig, ax = plt.subplots(figsize=(4,3))\n",
    "        ax.hist(df['rating'], bins=np.arange(0.5,6.5,1), edgecolor='black')\n",
    "        ax.set(title='Rating Distribution', xlabel='Rating', ylabel='Count')\n",
    "        st.pyplot(fig)\n",
    "        mr, md, sk = df['rating'].mean(), df['rating'].median(), df['rating'].skew()\n",
    "        st.markdown(f\"**Mean:** {mr:.2f}, **Median:** {md:.2f}, **Skew:** {sk:.2f}\")\n",
    "\n",
    "    elif section == \"Autoencoder\":\n",
    "        st.subheader(\":blue[Autoencoder Training]\")\n",
    "        c1, c2 = st.columns([1,4])\n",
    "        with c1:\n",
    "            latent_dim = st.slider(\"Latent dim\", 64, 512, 256, 64)\n",
    "            epochs = st.slider(\"Epochs\", 10, 100, 50, 10)\n",
    "            batch_size = st.selectbox(\"Batch size\", [16,32,64], index=0)\n",
    "        with c2:\n",
    "            if st.button(\"Train Autoencoder\"):\n",
    "                with st.spinner('Training...'):\n",
    "                    model, history = train_autoencoder(X_train, latent_dim, epochs, batch_size)\n",
    "                    st.session_state['autoencoder_model'] = model\n",
    "                st.success(\"Autoencoder trained!\")\n",
    "                buf = io.StringIO()\n",
    "                model.summary(print_fn=lambda x: buf.write(x + \"\\n\"))\n",
    "                st.text(\"Model Architecture and Parameters:\")\n",
    "                st.text(buf.getvalue())\n",
    "                fig2, ax2 = plt.subplots(figsize=(4,3))\n",
    "                ax2.plot(history.history['loss'], label='Train')\n",
    "                ax2.plot(history.history['val_loss'], label='Val')\n",
    "                ax2.set(title='Loss Curves', xlabel='Epoch', ylabel='MSE')\n",
    "                ax2.legend(fontsize=6)\n",
    "                st.pyplot(fig2)\n",
    "                ft = history.history['loss'][-1]\n",
    "                fv = history.history['val_loss'][-1]\n",
    "                be = np.argmin(history.history['val_loss']) + 1\n",
    "                bv = np.min(history.history['val_loss'])\n",
    "                st.write(f\"Final Train: {ft:.4f}, Final Val: {fv:.4f}\")\n",
    "                st.write(f\"Best Val {bv:.4f} at epoch {be}\")\n",
    "\n",
    "    elif section == \"Recommendations\":\n",
    "        st.subheader(\":blue[Recommendations]\")\n",
    "        model = st.session_state.get('autoencoder_model')\n",
    "        if not model:\n",
    "            st.warning(\"Please train autoencoder first.\")\n",
    "        else:\n",
    "            uid = st.selectbox(\"User ID\", user_item.index.tolist())\n",
    "            if st.button(\"Recommend Top-5\"):\n",
    "                preds = model.predict(normalized.loc[[uid]].values)[0]\n",
    "                preds[user_item.loc[uid] > 0] = -1\n",
    "                top5 = np.argsort(preds)[-5:][::-1]\n",
    "                st.write(top5.tolist())\n",
    "\n",
    "    elif section == \"SOM Clustering\":\n",
    "        st.subheader(\":blue[SOM Clustering]\")\n",
    "        c1, c2 = st.columns([1,4])\n",
    "        with c1:\n",
    "            grid_rows = st.selectbox(\"Rows\", [5,10,15], index=1)\n",
    "            grid_cols = st.selectbox(\"Cols\", [5,10,15], index=1)\n",
    "            sigma = st.slider(\"Sigma\", 0.5, 2.0, 1.0, 0.1)\n",
    "            lr = st.slider(\"LR\", 0.1, 1.0, 0.5, 0.1)\n",
    "            iters = st.slider(\"Iters\", 50, 500, 100, 50)\n",
    "        with c2:\n",
    "            if st.button(\"Train & Plot SOM\"):\n",
    "                som = train_som(X, grid_rows, grid_cols, sigma, lr, iters)\n",
    "                st.success(\"SOM trained!\")\n",
    "                fig3, ax3 = plt.subplots(figsize=(4,3))\n",
    "                um = som.distance_map().T\n",
    "                ax3.pcolor(um, cmap='viridis')\n",
    "                ax3.set(title='U-Matrix')\n",
    "                st.pyplot(fig3)\n",
    "                st.write(\n",
    "                    f\"Distances: min {um.min():.4f}, max {um.max():.4f}, mean {um.mean():.4f}\"\n",
    "                )\n",
    "                fig4, ax4 = plt.subplots(figsize=(4,3))\n",
    "                markers = ['o','s','D','^','v']\n",
    "                colors = ['r','g','b','c','m']\n",
    "                for i, x in enumerate(X):\n",
    "                    r, c = som.winner(x)\n",
    "                    ax4.plot(\n",
    "                        c+0.5, r+0.5, markers[i%5], mfc='None',\n",
    "                        mec=colors[i%5], ms=6, mew=1\n",
    "                    )\n",
    "                ax4.set(xlim=(0,grid_cols), ylim=(0,grid_rows))\n",
    "                ax4.invert_yaxis()\n",
    "                ax4.set(title='BMU Nodes')\n",
    "                st.pyplot(fig4)\n",
    "                freq = Counter([som.winner(x) for x in X])\n",
    "                st.write(\n",
    "                    f\"Unique BMUs: {len(freq)}, Max pop: {freq.most_common(1)[0][1]}\"\n",
    "                )\n",
    "\n",
    "    elif section == \"Comparison\":\n",
    "        st.subheader(\":blue[Performance Comparison]\")\n",
    "        model = st.session_state.get('autoencoder_model')\n",
    "        if not model:\n",
    "            st.info(\"Train autoencoder first.\")\n",
    "        else:\n",
    "            base = np.tile(X_train.mean(0), (len(X_test),1))\n",
    "            b_mse = mean_squared_error(X_test, base)\n",
    "            b_rmse = np.sqrt(b_mse)\n",
    "            pred = model.predict(X_test)\n",
    "            a_mse = mean_squared_error(X_test, pred)\n",
    "            a_rmse = np.sqrt(a_mse)\n",
    "            c1, c2 = st.columns([1,1])\n",
    "            with c1:\n",
    "                st.write(f\"Baseline RMSE: {b_rmse:.4f}\")\n",
    "                st.write(f\"ANN RMSE: {a_rmse:.4f}\")\n",
    "                st.write(\n",
    "                    f\"Improvement: {(b_rmse-a_rmse)/b_rmse*100:.2f}%\"\n",
    "                )\n",
    "            with c2:\n",
    "                st.bar_chart({'Baseline': b_rmse, 'ANN': a_rmse})"
   ]
  },
  {
   "cell_type": "code",
   "execution_count": null,
   "id": "c19c47eb-5b6a-41e7-bad8-cebc3f8e86a5",
   "metadata": {},
   "outputs": [],
   "source": []
  }
 ],
 "metadata": {
  "kernelspec": {
   "display_name": "Python 3 (ipykernel)",
   "language": "python",
   "name": "python3"
  },
  "language_info": {
   "codemirror_mode": {
    "name": "ipython",
    "version": 3
   },
   "file_extension": ".py",
   "mimetype": "text/x-python",
   "name": "python",
   "nbconvert_exporter": "python",
   "pygments_lexer": "ipython3",
   "version": "3.12.4"
  }
 },
 "nbformat": 4,
 "nbformat_minor": 5
}
